{
  "cells": [
    {
      "cell_type": "code",
      "source": [
        "#Fashion-MNIST is a dataset of Zalando's article images—consisting of a training set of 60,000 examples and a test set of 10,000 examples.\n",
        "#Each example is a 28x28 grayscale image, associated with a label from 10 classes.\n",
        "\n",
        "#Each image is 28 pixels in height and 28 pixels in width, for a total of 784 pixels in total. \n",
        "#Each pixel has a single pixel-value associated with it, indicating the lightness or darkness of that pixel, with higher numbers meaning darker.\n",
        "\n",
        "##Each row is a separate image\n",
        "#Column 1 is the class label.\n",
        "#Remaining columns are pixel numbers (784 total).\n",
        "#Each value is the darkness of the pixel (1 to 255)"
      ],
      "metadata": {
        "id": "7-JAtBob-LxB"
      },
      "execution_count": 66,
      "outputs": []
    },
    {
      "cell_type": "code",
      "execution_count": null,
      "metadata": {
        "id": "O1HbHo3iuX2G"
      },
      "outputs": [],
      "source": [
        "import tensorflow\n",
        "from tensorflow import keras\n",
        "from keras.layers import Dense,Flatten,Dropout\n",
        "from keras import Sequential \n",
        "import matplotlib.pyplot as plt\n",
        "from keras.layers import BatchNormalization"
      ]
    },
    {
      "cell_type": "code",
      "execution_count": null,
      "metadata": {
        "id": "JpT_4GGGF4yH"
      },
      "outputs": [],
      "source": [
        "(x_train, y_train), (x_test, y_test) = keras.datasets.fashion_mnist.load_data()"
      ]
    },
    {
      "cell_type": "code",
      "execution_count": null,
      "metadata": {
        "colab": {
          "base_uri": "https://localhost:8080/"
        },
        "id": "U2607KzJF63x",
        "outputId": "49d08354-5c6b-4848-c021-4dffb0740381"
      },
      "outputs": [
        {
          "output_type": "execute_result",
          "data": {
            "text/plain": [
              "(60000, 28, 28)"
            ]
          },
          "metadata": {},
          "execution_count": 50
        }
      ],
      "source": [
        "x_train.shape"
      ]
    },
    {
      "cell_type": "code",
      "execution_count": null,
      "metadata": {
        "id": "Zu8px34CUdqK"
      },
      "outputs": [],
      "source": [
        "X_train=x_train/255\n",
        "X_test=x_test/255"
      ]
    },
    {
      "cell_type": "code",
      "execution_count": null,
      "metadata": {
        "colab": {
          "base_uri": "https://localhost:8080/"
        },
        "id": "YNwPzFbiFARP",
        "outputId": "4ce23843-0c28-4f54-a270-97d09e55e156"
      },
      "outputs": [
        {
          "output_type": "execute_result",
          "data": {
            "text/plain": [
              "(10000,)"
            ]
          },
          "metadata": {},
          "execution_count": 52
        }
      ],
      "source": [
        "y_test.shape"
      ]
    },
    {
      "cell_type": "code",
      "execution_count": null,
      "metadata": {
        "colab": {
          "base_uri": "https://localhost:8080/",
          "height": 447
        },
        "id": "k31zfXMXFGPY",
        "outputId": "91b6e21a-cceb-412d-fc31-c52415a925cc"
      },
      "outputs": [
        {
          "output_type": "execute_result",
          "data": {
            "text/plain": [
              "<matplotlib.image.AxesImage at 0x7f2bdf95b2e0>"
            ]
          },
          "metadata": {},
          "execution_count": 53
        },
        {
          "output_type": "display_data",
          "data": {
            "text/plain": [
              "<Figure size 640x480 with 1 Axes>"
            ],
            "image/png": "[encoded data removed]"
          },
          "metadata": {}
        }
      ],
      "source": [
        "plt.imshow(X_test[0])"
      ]
    },
    {
      "cell_type": "code",
      "execution_count": null,
      "metadata": {
        "id": "nZnV-7ykWcWy"
      },
      "outputs": [],
      "source": [
        "#To built Artificial neural network\n",
        "#init the model\n",
        "ann=Sequential()      \n",
        "ann.add(Flatten(input_shape=(28,28)))\n",
        "#add layers into model\n",
        "ann.add(Dense(128,activation=\"relu\"))\n",
        "Dropout(0.3)\n",
        "ann.add(BatchNormalization())\n",
        "ann.add(Dense(80,activation=\"relu\"))\n",
        "Dropout(0.3)\n",
        "ann.add(BatchNormalization())\n",
        "ann.add(Dense(30,activation=\"relu\"))\n",
        "Dropout(0.3)\n",
        "ann.add(BatchNormalization())\n",
        "ann.add(Dense(10,activation=\"softmax\"))\n",
        "#Establish connection between the layers\n",
        "ann.compile(optimizer=\"adam\",loss=\"sparse_categorical_crossentropy\",metrics=[\"accuracy\"])"
      ]
    },
    {
      "cell_type": "code",
      "execution_count": null,
      "metadata": {
        "id": "5OqppeG-1vrB"
      },
      "outputs": [],
      "source": [
        "from keras.callbacks import EarlyStopping\n",
        "early_stop=EarlyStopping(monitor=\"val_loss\",mode='min',verbose=1,patience=25)"
      ]
    },
    {
      "cell_type": "code",
      "execution_count": null,
      "metadata": {
        "colab": {
          "base_uri": "https://localhost:8080/"
        },
        "id": "Z2g7gs21ZXl0",
        "outputId": "05ffa4e5-7e7d-47a9-9648-eb13c075703a"
      },
      "outputs": [
        {
          "output_type": "stream",
          "name": "stdout",
          "text": [
            "Epoch 1/40\n",
            "1500/1500 [==============================] - 11s 6ms/step - loss: 0.5350 - accuracy: 0.8146 - val_loss: 0.4739 - val_accuracy: 0.8333\n",
            "Epoch 2/40\n",
            "1500/1500 [==============================] - 10s 7ms/step - loss: 0.4110 - accuracy: 0.8515 - val_loss: 0.4064 - val_accuracy: 0.8528\n",
            "Epoch 3/40\n",
            "1500/1500 [==============================] - 9s 6ms/step - loss: 0.3751 - accuracy: 0.8640 - val_loss: 0.3688 - val_accuracy: 0.8646\n",
            "Epoch 4/40\n",
            "1500/1500 [==============================] - 9s 6ms/step - loss: 0.3485 - accuracy: 0.8724 - val_loss: 0.3709 - val_accuracy: 0.8677\n",
            "Epoch 5/40\n",
            "1500/1500 [==============================] - 10s 6ms/step - loss: 0.3276 - accuracy: 0.8781 - val_loss: 0.3591 - val_accuracy: 0.8730\n",
            "Epoch 6/40\n",
            "1500/1500 [==============================] - 10s 6ms/step - loss: 0.3181 - accuracy: 0.8839 - val_loss: 0.3408 - val_accuracy: 0.8763\n",
            "Epoch 7/40\n",
            "1500/1500 [==============================] - 9s 6ms/step - loss: 0.3084 - accuracy: 0.8856 - val_loss: 0.3498 - val_accuracy: 0.8758\n",
            "Epoch 8/40\n",
            "1500/1500 [==============================] - 9s 6ms/step - loss: 0.3017 - accuracy: 0.8885 - val_loss: 0.3291 - val_accuracy: 0.8826\n",
            "Epoch 9/40\n",
            "1500/1500 [==============================] - 9s 6ms/step - loss: 0.2955 - accuracy: 0.8917 - val_loss: 0.3559 - val_accuracy: 0.8729\n",
            "Epoch 10/40\n",
            "1500/1500 [==============================] - 10s 6ms/step - loss: 0.2855 - accuracy: 0.8940 - val_loss: 0.3553 - val_accuracy: 0.8773\n",
            "Epoch 11/40\n",
            "1500/1500 [==============================] - 8s 6ms/step - loss: 0.2765 - accuracy: 0.8967 - val_loss: 0.3281 - val_accuracy: 0.8815\n",
            "Epoch 12/40\n",
            "1500/1500 [==============================] - 10s 6ms/step - loss: 0.2708 - accuracy: 0.9001 - val_loss: 0.3553 - val_accuracy: 0.8748\n",
            "Epoch 13/40\n",
            "1500/1500 [==============================] - 9s 6ms/step - loss: 0.2626 - accuracy: 0.9044 - val_loss: 0.3326 - val_accuracy: 0.8832\n",
            "Epoch 14/40\n",
            "1500/1500 [==============================] - 8s 6ms/step - loss: 0.2577 - accuracy: 0.9040 - val_loss: 0.3171 - val_accuracy: 0.8868\n",
            "Epoch 15/40\n",
            "1500/1500 [==============================] - 9s 6ms/step - loss: 0.2483 - accuracy: 0.9073 - val_loss: 0.3529 - val_accuracy: 0.8821\n",
            "Epoch 16/40\n",
            "1500/1500 [==============================] - 9s 6ms/step - loss: 0.2447 - accuracy: 0.9087 - val_loss: 0.3506 - val_accuracy: 0.8792\n",
            "Epoch 17/40\n",
            "1500/1500 [==============================] - 9s 6ms/step - loss: 0.2410 - accuracy: 0.9097 - val_loss: 0.3494 - val_accuracy: 0.8815\n",
            "Epoch 18/40\n",
            "1500/1500 [==============================] - 8s 5ms/step - loss: 0.2372 - accuracy: 0.9114 - val_loss: 0.3284 - val_accuracy: 0.8847\n",
            "Epoch 19/40\n",
            "1500/1500 [==============================] - 9s 6ms/step - loss: 0.2315 - accuracy: 0.9134 - val_loss: 0.3449 - val_accuracy: 0.8845\n",
            "Epoch 20/40\n",
            "1500/1500 [==============================] - 9s 6ms/step - loss: 0.2285 - accuracy: 0.9147 - val_loss: 0.3420 - val_accuracy: 0.8840\n",
            "Epoch 21/40\n",
            "1500/1500 [==============================] - 8s 5ms/step - loss: 0.2187 - accuracy: 0.9180 - val_loss: 0.3847 - val_accuracy: 0.8637\n",
            "Epoch 22/40\n",
            "1500/1500 [==============================] - 9s 6ms/step - loss: 0.2199 - accuracy: 0.9175 - val_loss: 0.3500 - val_accuracy: 0.8822\n",
            "Epoch 23/40\n",
            "1500/1500 [==============================] - 9s 6ms/step - loss: 0.2155 - accuracy: 0.9197 - val_loss: 0.3378 - val_accuracy: 0.8837\n",
            "Epoch 24/40\n",
            "1500/1500 [==============================] - 8s 5ms/step - loss: 0.2125 - accuracy: 0.9194 - val_loss: 0.3418 - val_accuracy: 0.8857\n",
            "Epoch 25/40\n",
            "1500/1500 [==============================] - 9s 6ms/step - loss: 0.2104 - accuracy: 0.9213 - val_loss: 0.3549 - val_accuracy: 0.8825\n",
            "Epoch 26/40\n",
            "1500/1500 [==============================] - 10s 6ms/step - loss: 0.2040 - accuracy: 0.9229 - val_loss: 0.3690 - val_accuracy: 0.8797\n",
            "Epoch 27/40\n",
            "1500/1500 [==============================] - 9s 6ms/step - loss: 0.2028 - accuracy: 0.9232 - val_loss: 0.3590 - val_accuracy: 0.8795\n",
            "Epoch 28/40\n",
            "1500/1500 [==============================] - 9s 6ms/step - loss: 0.1987 - accuracy: 0.9258 - val_loss: 0.3331 - val_accuracy: 0.8900\n",
            "Epoch 29/40\n",
            "1500/1500 [==============================] - 10s 6ms/step - loss: 0.1952 - accuracy: 0.9273 - val_loss: 0.3503 - val_accuracy: 0.8818\n",
            "Epoch 30/40\n",
            "1500/1500 [==============================] - 9s 6ms/step - loss: 0.1998 - accuracy: 0.9247 - val_loss: 0.3477 - val_accuracy: 0.8854\n",
            "Epoch 31/40\n",
            "1500/1500 [==============================] - 8s 5ms/step - loss: 0.1883 - accuracy: 0.9292 - val_loss: 0.3691 - val_accuracy: 0.8778\n",
            "Epoch 32/40\n",
            "1500/1500 [==============================] - 9s 6ms/step - loss: 0.1907 - accuracy: 0.9283 - val_loss: 0.3733 - val_accuracy: 0.8825\n",
            "Epoch 33/40\n",
            "1500/1500 [==============================] - 9s 6ms/step - loss: 0.1908 - accuracy: 0.9270 - val_loss: 0.3424 - val_accuracy: 0.8898\n",
            "Epoch 34/40\n",
            "1500/1500 [==============================] - 9s 6ms/step - loss: 0.1896 - accuracy: 0.9291 - val_loss: 0.3591 - val_accuracy: 0.8838\n",
            "Epoch 35/40\n",
            "1500/1500 [==============================] - 8s 5ms/step - loss: 0.1826 - accuracy: 0.9314 - val_loss: 0.3471 - val_accuracy: 0.8865\n",
            "Epoch 36/40\n",
            "1500/1500 [==============================] - 9s 6ms/step - loss: 0.1816 - accuracy: 0.9324 - val_loss: 0.3685 - val_accuracy: 0.8830\n",
            "Epoch 37/40\n",
            "1500/1500 [==============================] - 9s 6ms/step - loss: 0.1791 - accuracy: 0.9330 - val_loss: 0.3571 - val_accuracy: 0.8822\n",
            "Epoch 38/40\n",
            "1500/1500 [==============================] - 8s 6ms/step - loss: 0.1782 - accuracy: 0.9325 - val_loss: 0.3786 - val_accuracy: 0.8778\n",
            "Epoch 39/40\n",
            "1500/1500 [==============================] - 9s 6ms/step - loss: 0.1718 - accuracy: 0.9356 - val_loss: 0.3768 - val_accuracy: 0.8802\n",
            "Epoch 39: early stopping\n"
          ]
        }
      ],
      "source": [
        "#train the model\n",
        "history=ann.fit(X_train,y_train,epochs=40,validation_split=0.20,callbacks=[early_stop])"
      ]
    },
    {
      "cell_type": "code",
      "execution_count": null,
      "metadata": {
        "colab": {
          "base_uri": "https://localhost:8080/",
          "height": 449
        },
        "id": "YgY6ymf7ZnD0",
        "outputId": "ab50f906-66ad-468f-8f49-b2a463b1b5d7"
      },
      "outputs": [
        {
          "output_type": "execute_result",
          "data": {
            "text/plain": [
              "[<matplotlib.lines.Line2D at 0x7f2c0fa73af0>]"
            ]
          },
          "metadata": {},
          "execution_count": 57
        },
        {
          "output_type": "display_data",
          "data": {
            "text/plain": [
              "<Figure size 640x480 with 1 Axes>"
            ],
            "image/png": "[encoded data removed]"
          },
          "metadata": {}
        }
      ],
      "source": [
        "plt.plot(history.history[\"loss\"])\n",
        "plt.plot(history.history[\"val_loss\"])\n"
      ]
    },
    {
      "cell_type": "code",
      "execution_count": null,
      "metadata": {
        "colab": {
          "base_uri": "https://localhost:8080/",
          "height": 448
        },
        "id": "C7RcD3sIeXVH",
        "outputId": "3892626b-9e51-4a61-caf0-527ca59af850"
      },
      "outputs": [
        {
          "output_type": "execute_result",
          "data": {
            "text/plain": [
              "[<matplotlib.lines.Line2D at 0x7f2c0f9c6070>]"
            ]
          },
          "metadata": {},
          "execution_count": 58
        },
        {
          "output_type": "display_data",
          "data": {
            "text/plain": [
              "<Figure size 640x480 with 1 Axes>"
            ],
            "image/png": "[encoded data removed]"
          },
          "metadata": {}
        }
      ],
      "source": [
        "plt.plot(history.history[\"accuracy\"])\n",
        "plt.plot(history.history[\"val_accuracy\"])"
      ]
    },
    {
      "cell_type": "code",
      "execution_count": null,
      "metadata": {
        "colab": {
          "base_uri": "https://localhost:8080/"
        },
        "id": "9x997TOWxutO",
        "outputId": "139046ca-1750-4f44-8975-85ab94047253"
      },
      "outputs": [
        {
          "output_type": "stream",
          "name": "stdout",
          "text": [
            "313/313 [==============================] - 1s 2ms/step\n"
          ]
        }
      ],
      "source": [
        "#make prediction\n",
        "y_prob=ann.predict(X_test)"
      ]
    },
    {
      "cell_type": "code",
      "execution_count": null,
      "metadata": {
        "colab": {
          "base_uri": "https://localhost:8080/"
        },
        "id": "1qOxEqRj3_dS",
        "outputId": "65b660f0-c685-47e1-a9bb-dbab8dd2160d"
      },
      "outputs": [
        {
          "output_type": "execute_result",
          "data": {
            "text/plain": [
              "array([7.7303946e-07, 2.0279872e-08, 4.7074363e-07, 5.6305314e-08,\n",
              "       5.6992715e-08, 2.1134540e-06, 7.8154267e-07, 7.9764542e-04,\n",
              "       1.4505747e-06, 9.9919671e-01], dtype=float32)"
            ]
          },
          "metadata": {},
          "execution_count": 60
        }
      ],
      "source": [
        "y_prob[0]"
      ]
    },
    {
      "cell_type": "code",
      "execution_count": null,
      "metadata": {
        "id": "U8_1zHVG4NoX"
      },
      "outputs": [],
      "source": [
        "y_pred=y_prob.argmax(axis=1)"
      ]
    },
    {
      "cell_type": "code",
      "execution_count": null,
      "metadata": {
        "colab": {
          "base_uri": "https://localhost:8080/"
        },
        "id": "Vm0HBqo44Xl_",
        "outputId": "c0d3e482-3bdc-455f-d904-82f86ff4af13"
      },
      "outputs": [
        {
          "output_type": "execute_result",
          "data": {
            "text/plain": [
              "array([9, 2, 1, ..., 8, 1, 5])"
            ]
          },
          "metadata": {},
          "execution_count": 62
        }
      ],
      "source": [
        "y_pred"
      ]
    },
    {
      "cell_type": "code",
      "execution_count": null,
      "metadata": {
        "colab": {
          "base_uri": "https://localhost:8080/"
        },
        "id": "-Mwy5DQj4fZy",
        "outputId": "be1b1af4-b66d-46f1-acc2-74e718e23b45"
      },
      "outputs": [
        {
          "output_type": "stream",
          "name": "stdout",
          "text": [
            "              precision    recall  f1-score   support\n",
            "\n",
            "           0       0.80      0.82      0.81      1000\n",
            "           1       0.99      0.96      0.98      1000\n",
            "           2       0.82      0.73      0.78      1000\n",
            "           3       0.90      0.86      0.88      1000\n",
            "           4       0.82      0.81      0.81      1000\n",
            "           5       0.97      0.94      0.96      1000\n",
            "           6       0.62      0.75      0.68      1000\n",
            "           7       0.95      0.95      0.95      1000\n",
            "           8       0.97      0.95      0.96      1000\n",
            "           9       0.93      0.96      0.94      1000\n",
            "\n",
            "    accuracy                           0.87     10000\n",
            "   macro avg       0.88      0.87      0.88     10000\n",
            "weighted avg       0.88      0.87      0.88     10000\n",
            "\n"
          ]
        }
      ],
      "source": [
        "from sklearn.metrics import classification_report\n",
        "print(classification_report(y_test,y_pred))"
      ]
    },
    {
      "cell_type": "code",
      "execution_count": null,
      "metadata": {
        "id": "1b32ueeJ5g6q"
      },
      "outputs": [],
      "source": []
    }
  ],
  "metadata": {
    "colab": {
      "provenance": []
    },
    "kernelspec": {
      "display_name": "Python 3",
      "name": "python3"
    },
    "language_info": {
      "name": "python"
    }
  },
  "nbformat": 4,
  "nbformat_minor": 0
}